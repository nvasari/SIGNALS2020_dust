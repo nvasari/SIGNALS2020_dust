{
 "cells": [
  {
   "cell_type": "markdown",
   "metadata": {},
   "source": [
    "# Comparing $L_\\mathrm{IFS}$ and $L_\\mathrm{G}$\n",
    "\n",
    "Adding up dust corrected spaxels yields a larger H$\\alpha$ luminosity than dust correcting the global spectrum ($L_\\mathrm{IFS}/L_\\mathrm{G} \\geq 1$).\n",
    "See Vale Asari et al. (2020) for more details."
   ]
  },
  {
   "cell_type": "code",
   "execution_count": 1,
   "metadata": {},
   "outputs": [],
   "source": [
    "# Import main libraries\n",
    "%matplotlib inline\n",
    "import matplotlib\n",
    "import matplotlib.pyplot as plt\n",
    "from matplotlib import gridspec\n",
    "\n",
    "import numpy as np\n",
    "from astropy.table import Table\n",
    "\n",
    "# Some useful functions for calculations/plots\n",
    "from natastro import utils\n",
    "import natastro.plotutils as nplot\n",
    "from natastro.labels import get_labels"
   ]
  },
  {
   "cell_type": "code",
   "execution_count": 2,
   "metadata": {},
   "outputs": [],
   "source": [
    "# ===> Set up plots\n",
    "columnwidth = 240.\n",
    "textwidth = 504.\n",
    "screenwidth = 1024.\n",
    "\n",
    "ps = 'times'\n",
    "if (ps == 'times'):\n",
    "    psetup = nplot.plotSetup\n",
    "    \n",
    "labels = get_labels(ps)"
   ]
  },
  {
   "cell_type": "markdown",
   "metadata": {},
   "source": [
    "---\n",
    "## 1. Reading the data"
   ]
  },
  {
   "cell_type": "code",
   "execution_count": 3,
   "metadata": {},
   "outputs": [],
   "source": [
    "# Local dir\n",
    "table_file = 'example_data/SIGNALS_table_spaxels_8247-12704.hdf5'\n",
    "\n",
    "# Read spaxels table\n",
    "ts = Table.read(table_file, path='/spaxel')\n",
    "\n",
    "# Read integrated table (one single row, because we are dealing with a single galaxy)\n",
    "ti = Table.read(table_file, path='/integrated')"
   ]
  },
  {
   "cell_type": "code",
   "execution_count": 4,
   "metadata": {},
   "outputs": [
    {
     "data": {
      "text/html": [
       "<i>Table length=1</i>\n",
       "<table id=\"table4919174144\" class=\"table-striped table-bordered table-condensed\">\n",
       "<thead><tr><th>plateid</th><th>ifudsgn</th><th>mangaid</th><th>ra</th><th>dec</th><th>x0</th><th>y0</th><th>redshift</th><th>pixel_scale_pc</th><th>lumDistance_Mpc</th><th>x</th><th>y</th><th>SN</th><th>D4000</th><th>Lobn</th><th>Mcor</th><th>Mini</th><th>at_flux</th><th>at_mass</th><th>alogZ_flux</th><th>alogZ_mass</th><th>tau_V</th><th>v_0</th><th>v_d</th><th>x_Y</th><th>flux_unit</th><th>El_F_3726</th><th>El_EW_3726</th><th>El_v0_3726</th><th>El_vd_3726</th><th>El_vdins_3726</th><th>El_lcrms_3726</th><th>El_flag_3726</th><th>El_F_3729</th><th>El_EW_3729</th><th>El_v0_3729</th><th>El_vd_3729</th><th>El_vdins_3729</th><th>El_lcrms_3729</th><th>El_flag_3729</th><th>El_F_4340</th><th>El_EW_4340</th><th>El_v0_4340</th><th>El_vd_4340</th><th>El_vdins_4340</th><th>El_lcrms_4340</th><th>El_flag_4340</th><th>El_F_4861</th><th>El_EW_4861</th><th>El_v0_4861</th><th>El_vd_4861</th><th>El_vdins_4861</th><th>El_lcrms_4861</th><th>El_flag_4861</th><th>El_F_5007</th><th>El_EW_5007</th><th>El_v0_5007</th><th>El_vd_5007</th><th>El_vdins_5007</th><th>El_lcrms_5007</th><th>El_flag_5007</th><th>El_F_6563</th><th>El_EW_6563</th><th>El_v0_6563</th><th>El_vd_6563</th><th>El_vdins_6563</th><th>El_lcrms_6563</th><th>El_flag_6563</th><th>El_F_6584</th><th>El_EW_6584</th><th>El_v0_6584</th><th>El_vd_6584</th><th>El_vdins_6584</th><th>El_lcrms_6584</th><th>El_flag_6584</th><th>El_F_6716</th><th>El_EW_6716</th><th>El_v0_6716</th><th>El_vd_6716</th><th>El_vdins_6716</th><th>El_lcrms_6716</th><th>El_flag_6716</th><th>El_F_6731</th><th>El_EW_6731</th><th>El_v0_6731</th><th>El_vd_6731</th><th>El_vdins_6731</th><th>El_lcrms_6731</th><th>El_flag_6731</th><th>El_A_4861</th><th>El_AN_4861</th><th>El_eF_4861</th><th>El_SN_4861</th><th>El_A_6563</th><th>El_AN_6563</th><th>El_eF_6563</th><th>El_SN_6563</th><th>El_A_3726</th><th>El_AN_3726</th><th>El_eF_3726</th><th>El_SN_3726</th><th>El_A_3729</th><th>El_AN_3729</th><th>El_eF_3729</th><th>El_SN_3729</th><th>El_A_4340</th><th>El_AN_4340</th><th>El_eF_4340</th><th>El_SN_4340</th><th>El_A_5007</th><th>El_AN_5007</th><th>El_eF_5007</th><th>El_SN_5007</th><th>El_A_6584</th><th>El_AN_6584</th><th>El_eF_6584</th><th>El_SN_6584</th><th>El_A_6716</th><th>El_AN_6716</th><th>El_eF_6716</th><th>El_SN_6716</th><th>El_A_6731</th><th>El_AN_6731</th><th>El_eF_6731</th><th>El_SN_6731</th></tr></thead>\n",
       "<thead><tr><th>int16</th><th>int64</th><th>bytes9</th><th>float64</th><th>float64</th><th>float32</th><th>float32</th><th>float32</th><th>float32</th><th>float32</th><th>int16</th><th>int16</th><th>float64</th><th>float64</th><th>float64</th><th>float64</th><th>float64</th><th>float64</th><th>float64</th><th>float64</th><th>float64</th><th>float64</th><th>float64</th><th>float64</th><th>float64</th><th>float32</th><th>float64</th><th>float64</th><th>float64</th><th>float64</th><th>float64</th><th>float64</th><th>int32</th><th>float64</th><th>float64</th><th>float64</th><th>float64</th><th>float64</th><th>float64</th><th>int32</th><th>float64</th><th>float64</th><th>float64</th><th>float64</th><th>float64</th><th>float64</th><th>int32</th><th>float64</th><th>float64</th><th>float64</th><th>float64</th><th>float64</th><th>float64</th><th>int32</th><th>float64</th><th>float64</th><th>float64</th><th>float64</th><th>float64</th><th>float64</th><th>int32</th><th>float64</th><th>float64</th><th>float64</th><th>float64</th><th>float64</th><th>float64</th><th>int32</th><th>float64</th><th>float64</th><th>float64</th><th>float64</th><th>float64</th><th>float64</th><th>int32</th><th>float64</th><th>float64</th><th>float64</th><th>float64</th><th>float64</th><th>float64</th><th>int32</th><th>float64</th><th>float64</th><th>float64</th><th>float64</th><th>float64</th><th>float64</th><th>int32</th><th>float64</th><th>float64</th><th>float64</th><th>float64</th><th>float64</th><th>float64</th><th>float64</th><th>float64</th><th>float64</th><th>float64</th><th>float64</th><th>float64</th><th>float64</th><th>float64</th><th>float64</th><th>float64</th><th>float64</th><th>float64</th><th>float64</th><th>float64</th><th>float64</th><th>float64</th><th>float64</th><th>float64</th><th>float64</th><th>float64</th><th>float64</th><th>float64</th><th>float64</th><th>float64</th><th>float64</th><th>float64</th><th>float64</th><th>float64</th><th>float64</th><th>float64</th></tr></thead>\n",
       "<tr><td>8247</td><td>12704</td><td>1-137870</td><td>136.730098431</td><td>44.121516356</td><td>18.254055</td><td>18.251282</td><td>0.0494434</td><td>967.25146</td><td>219.7264</td><td>0</td><td>0</td><td>12.687684779725029</td><td>1.1883676993883459</td><td>2379950.0</td><td>30941800000.0</td><td>55273900000.0</td><td>9.095517494117287</td><td>9.723635921467427</td><td>-0.41088757093992734</td><td>-0.5228395800222724</td><td>0.1305105230709025</td><td>-7.05</td><td>77.47</td><td>0.07321176103609899</td><td>1e-17</td><td>743.8332824060375</td><td>6.174984018637815</td><td>-23.351965645090623</td><td>86.41152706623457</td><td>86.79411419187491</td><td>4.7326837208492325</td><td>0</td><td>1178.3535248336489</td><td>9.74321336816868</td><td>-23.351965645090623</td><td>86.41152706623457</td><td>86.72077671478495</td><td>4.7326837208492325</td><td>0</td><td>378.7611653842843</td><td>2.432137887459518</td><td>-15.731413715812474</td><td>68.51652871540531</td><td>77.39375542713617</td><td>2.2681950447466015</td><td>0</td><td>884.4457743871696</td><td>5.1548319508780835</td><td>-15.731413715812474</td><td>68.51652871540531</td><td>73.81146871734697</td><td>2.2699216531806314</td><td>0</td><td>496.46166829843014</td><td>3.0503682309994646</td><td>-16.815366574499784</td><td>87.60736973423657</td><td>73.13020610719049</td><td>1.9964394868207227</td><td>0</td><td>3421.612793763468</td><td>24.954903910057254</td><td>-15.731413715812474</td><td>68.51652871540531</td><td>71.19144060156988</td><td>4.487691242975497</td><td>0</td><td>1105.4684965837976</td><td>8.092999413095596</td><td>-15.308893819711843</td><td>70.65735961816044</td><td>71.11109595591358</td><td>4.487691242975497</td><td>0</td><td>706.5657209915797</td><td>5.300086613740803</td><td>-13.849576837700905</td><td>71.32642575608486</td><td>70.6104553649397</td><td>1.8675898220046057</td><td>0</td><td>502.56010244004744</td><td>3.7808487344140866</td><td>-13.849576837700905</td><td>71.32642575608486</td><td>70.55981257659631</td><td>1.8675898220046057</td><td>0</td><td>216.05842271176945</td><td>95.18320705431694</td><td>7.105449068882154</td><td>124.47429653117094</td><td>631.0813960468668</td><td>140.62495877689605</td><td>16.166885754003896</td><td>211.6432840453561</td><td>194.94482132740762</td><td>41.19117879536365</td><td>14.302767935255908</td><td>52.00624702666887</td><td>308.724958476101</td><td>65.23253542510197</td><td>14.305072802400607</td><td>82.37312323471038</td><td>100.96872365095737</td><td>44.51500936165629</td><td>6.796735107890691</td><td>55.7269276162551</td><td>103.91918016503853</td><td>52.052256455078975</td><td>6.751213065614853</td><td>73.53666125973702</td><td>200.33466589997008</td><td>44.64092003066172</td><td>16.309804668723665</td><td>67.7793829562955</td><td>125.35983494198223</td><td>67.12385849662928</td><td>6.859764915148883</td><td>103.00144826118208</td><td>89.00611092678817</td><td>47.65827585805331</td><td>6.865880617637931</td><td>73.19674349551147</td></tr>\n",
       "</table>"
      ],
      "text/plain": [
       "<Table length=1>\n",
       "plateid ifudsgn mangaid  ...     El_eF_6731        El_SN_6731   \n",
       " int16   int64   bytes9  ...      float64           float64     \n",
       "------- ------- -------- ... ----------------- -----------------\n",
       "   8247   12704 1-137870 ... 6.865880617637931 73.19674349551147"
      ]
     },
     "execution_count": 4,
     "metadata": {},
     "output_type": "execute_result"
    }
   ],
   "source": [
    "# Emission line quantities start with El_. El_F_6563 = Ha flux; El_eF_6563 = uncertainty Ha flux; etc.\n",
    "ti"
   ]
  },
  {
   "cell_type": "markdown",
   "metadata": {},
   "source": [
    "---\n",
    "## 2. Dust-correcting H$\\alpha$ fluxes"
   ]
  },
  {
   "cell_type": "code",
   "execution_count": 5,
   "metadata": {},
   "outputs": [],
   "source": [
    "# Load a script with a variety of dust laws\n",
    "from natastro.pycasso2.reddening import calc_redlaw\n",
    "\n",
    "# Note: This is originally from pycasso2.redenning,\n",
    "# which can be downloaded at https://bitbucket.org/streeto/pycasso2\n",
    "# If you have pycasso2 installed, simply use it as\n",
    "#    from pycasso2.reddening import calc_redlaw"
   ]
  },
  {
   "cell_type": "code",
   "execution_count": 6,
   "metadata": {},
   "outputs": [],
   "source": [
    "# Correcting spaxels\n",
    "B = 2.87\n",
    "RV = 3.1\n",
    "HaHb = ts['El_F_6563'] / ts['El_F_4861']\n",
    "ts['HaHb'] = HaHb\n",
    "\n",
    "qHb, qHa = calc_redlaw([4861, 6563], 'CCM', R_V=RV)\n",
    "tauV = (qHb - qHa)**-1 * np.log(HaHb / B)\n",
    "\n",
    "def deredden_line_RV(ll, tauV, RV):\n",
    "    q_l = calc_redlaw([ll], 'CCM', R_V=RV)[0]\n",
    "    tau_l = tauV * q_l\n",
    "    ts[f'El_F_{ll}_RV{RV}_dr'] = ts[f'El_F_{ll}'] * np.exp(tau_l)\n",
    "    \n",
    "    \n",
    "for ll in [3726, 3729, 4861, 5007, 6563, 6584]:\n",
    "    deredden_line_RV(ll, tauV, RV)\n",
    "        \n",
    "# Get info for 3727\n",
    "ts['El_F_3727'] = utils.safe_sum( ts['El_F_3726'], ts['El_F_3729'] )\n",
    "ts[f'El_F_3727_RV{RV}_dr'] = utils.safe_sum( ts[f'El_F_3726_RV{RV}_dr'], ts[f'El_F_3729_RV{RV}_dr'] )"
   ]
  },
  {
   "cell_type": "code",
   "execution_count": 7,
   "metadata": {},
   "outputs": [],
   "source": [
    "# Adding up spaxels\n",
    "ti[f'El_F_6563_RV{RV}_dr_spaxels'] = np.sum( ts[f'El_F_6563_RV{RV}_dr'] )"
   ]
  },
  {
   "cell_type": "code",
   "execution_count": 8,
   "metadata": {},
   "outputs": [],
   "source": [
    "# Correcting the global spectrum\n",
    "HaHb = ti['El_F_6563'] / ti['El_F_4861']\n",
    "ti['HaHb'] = HaHb\n",
    "\n",
    "qHb, qHa = calc_redlaw([4861, 6563], 'CCM', R_V=RV)\n",
    "tauV = (qHb - qHa)**-1 * np.log(HaHb / B)\n",
    "\n",
    "# Do not allow tau_V < 0\n",
    "tauV = np.where(tauV >= 0, tauV, 0)\n",
    "\n",
    "def deredden_line_RV(ll, tauV, RV):\n",
    "    q_l = calc_redlaw([ll], 'CCM', R_V=RV)[0]\n",
    "    tau_l = tauV * q_l\n",
    "    ti[f'El_F_{ll}_RV{RV}_dr'] = ti[f'El_F_{ll}'] * np.exp(tau_l)\n",
    "    \n",
    "for ll in [3726, 3729, 4861, 5007, 6563, 6584]:\n",
    "    deredden_line_RV(ll, tauV, RV)\n",
    "        \n",
    "# Get info for 3727\n",
    "ti['El_F_3727'] = utils.safe_sum( ti['El_F_3726'], ti['El_F_3729'] )\n",
    "ti[f'El_F_3727_RV{RV}_dr'] = utils.safe_sum( ti[f'El_F_3726_RV{RV}_dr'], ti[f'El_F_3729_RV{RV}_dr'] )"
   ]
  },
  {
   "cell_type": "code",
   "execution_count": 9,
   "metadata": {},
   "outputs": [
    {
     "name": "stdout",
     "output_type": "stream",
     "text": [
      "El_F_6563_RV3.1_dr_spaxels\n",
      "--------------------------\n",
      "        1.0183995447958838\n"
     ]
    }
   ],
   "source": [
    "# Calc'ing LI/LG\n",
    "LILG = ti[f'El_F_6563_RV{RV}_dr_spaxels'] / ti[f'El_F_6563_RV{RV}_dr']\n",
    "print(LILG)"
   ]
  }
 ],
 "metadata": {
  "kernelspec": {
   "display_name": "Python 3",
   "language": "python",
   "name": "python3"
  },
  "language_info": {
   "codemirror_mode": {
    "name": "ipython",
    "version": 3
   },
   "file_extension": ".py",
   "mimetype": "text/x-python",
   "name": "python",
   "nbconvert_exporter": "python",
   "pygments_lexer": "ipython3",
   "version": "3.7.1"
  }
 },
 "nbformat": 4,
 "nbformat_minor": 2
}
